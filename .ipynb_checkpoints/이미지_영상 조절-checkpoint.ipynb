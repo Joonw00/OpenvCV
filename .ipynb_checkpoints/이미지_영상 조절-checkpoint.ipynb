{
 "cells": [
  {
   "cell_type": "code",
   "execution_count": null,
   "id": "f047998c",
   "metadata": {},
   "outputs": [],
   "source": [
    "import cv2\n",
    "img = cv2.imread('img.jpg')\n",
    "\n",
    "#고정 크기 \n",
    "dst = cv2.resize(img,(400,500)) \n",
    "\n",
    "#비율 크기 \n",
    "dst = cv2.resize(img,None,fx=0.5,fy=0.5)#none:가로,세로 크기 ,,0.5배"
   ]
  },
  {
   "cell_type": "markdown",
   "id": "0b808718",
   "metadata": {},
   "source": [
    "## 보간법\n",
    "cv2.INTER_AREA : 크기 줄일 때 사용\n",
    "cv2.INTER_CUBIC : 크기 늘릴 때 사용 (속도 느림, 퀄리티 높음)\n",
    "cv2.INTER_LINEAR : 크기 늘릴 때 사용 (기본값)"
   ]
  },
  {
   "cell_type": "code",
   "execution_count": null,
   "id": "fc8c3096",
   "metadata": {},
   "outputs": [],
   "source": [
    "import cv2\n",
    "img = cv2.imread('img.jpg')\n",
    "dst = cv2.resize(img,None,fx=0.5,fy=0.5,interpolation = cv2.INTER_AREA)\n",
    "\n",
    "cv2.imshow('resize',dst)\n",
    "cv2.waitKey(0)\n",
    "cv2.destroyAllWindows()"
   ]
  },
  {
   "cell_type": "code",
   "execution_count": null,
   "id": "7dd8fb01",
   "metadata": {},
   "outputs": [],
   "source": [
    "#동영상\n",
    "#고정\n",
    "import cv2\n",
    "cap = cv2.Videocapture('video.mp4')\n",
    "while cap.isopened():\n",
    "    ret,frame=cap.read()\n",
    "    if not ret:\n",
    "        break\n",
    "    \n",
    "    frame_resized = cv2.resize(frame,(400,500)) \n",
    "    #비율도 마찬가지\n",
    "    \n",
    "    cv2.imshow('video',frame_resized)\n",
    "    cv2.imshow('video',frame)\n",
    "    if cv2.waitKey(1) == ord('q'):\n",
    "        break\n",
    "cap.rrelease()\n",
    "cv2.destroyAllWindows()"
   ]
  },
  {
   "cell_type": "markdown",
   "id": "b89dbbb4",
   "metadata": {},
   "source": [
    "## 이미지 자르기"
   ]
  },
  {
   "cell_type": "code",
   "execution_count": null,
   "id": "0a990bff",
   "metadata": {},
   "outputs": [],
   "source": [
    "#이미지 자르기-잘라서 새로운 윈도우에 표시\n",
    "import cv2\n",
    "img = cv2.imread('img.jpg')\n",
    "\n",
    "crop = img[10:20,30:40] #세로기준,가로기준 (범위)\n",
    "\n",
    "cv2.imshow('crop',crop)\n",
    "cv2.waitKey(0)\n",
    "cv2.destroyAllWindows()\n",
    "\n",
    "#기존 윈도우에 표시\n",
    "crop = img[10:20,30:40] #세로기준,가로기준 (범위)\n",
    "img[10:20,40:50] = crop"
   ]
  },
  {
   "cell_type": "markdown",
   "id": "183dd25d",
   "metadata": {},
   "source": [
    "## 대칭,회전"
   ]
  },
  {
   "cell_type": "code",
   "execution_count": null,
   "id": "5fd86e09",
   "metadata": {},
   "outputs": [],
   "source": [
    "import cv2\n",
    "img = cv2.imread('img.jpg')\n",
    "\n",
    "#좌우\n",
    "flip_hor = cv2.flip(img,1) #flipCode >0: 좌우 대칭 (img옆에 숫자)\n",
    "\n",
    "#상하\n",
    "flip_ver = cv2.flip(img,0)\n",
    "\n",
    "#상하 좌우 대칭\n",
    "flip_both = cv2.flip(img,-1) #flipCode <0: 상하좌우 대칭\n",
    "\n",
    "#회전\n",
    "#시계방향 90도\n",
    "rt_90 = cv2.rotate(img,cv2.ROTATE_90_CLOCKWISE)\n",
    "#180도\n",
    "rt_180 = cv2.rotate(img,cv2.ROTATE_180)\n",
    "#270도\n",
    "rt_270 = cv2.rotate(img,cv2.ROTATE_90_COUNTERCLOCKWISE)"
   ]
  },
  {
   "cell_type": "markdown",
   "id": "aa1c3451",
   "metadata": {},
   "source": [
    "## 변형"
   ]
  },
  {
   "cell_type": "code",
   "execution_count": null,
   "id": "30b36f9e",
   "metadata": {},
   "outputs": [],
   "source": [
    "# 불러온 이미지흑백으로 변경\n",
    "import cv2\n",
    "img = cv2.imread('img.jpg')\n",
    "\n",
    "dst = cv2.cvtColor(img, cv2.COLOR_BGR2GRAY) #CONVERTCOLOR"
   ]
  },
  {
   "cell_type": "markdown",
   "id": "dc6a6216",
   "metadata": {},
   "source": [
    "# 흐리게\n",
    "외곽선 검출등 단순하게 처리할 때 사용?\n",
    "\n",
    "가우시안 블러(노이즈도 제거됨)\n",
    "vs\n",
    "사이즈 변화에 따라\n",
    "\n",
    "커널 사이즈 -> 양수의 홀수로 지정\n",
    "ex (3,3),(5,5),(7,7)\n",
    "\n",
    "커질 수록 흐림 효과 커지는 듯?"
   ]
  },
  {
   "cell_type": "code",
   "execution_count": null,
   "id": "2e5476c4",
   "metadata": {},
   "outputs": [],
   "source": [
    "import cv2\n",
    "img = cv2.imread('img.jpg')\n",
    "\n",
    "kernel_3 = cv2.GaussianBlur(img, (3,3),0) #0:시그마x : 표준 편차,,0이면 자동 선택\n",
    "kernel_3 = cv2.GaussianBlur(img, (5,5),0)\n",
    "kernel_3 = cv2.GaussianBlur(img, (7,7),0)\n",
    "\n",
    "#표준편차로 변형 하려면 (0,0)으로 고정하고 하기\n",
    "kernel_3 = cv2.GaussianBlur(img, (0,0),0)#sigmaX-가우시안 커널의 x방향의 표준 편차"
   ]
  },
  {
   "cell_type": "markdown",
   "id": "2fc8bd1a",
   "metadata": {},
   "source": [
    "## 원근"
   ]
  },
  {
   "cell_type": "code",
   "execution_count": null,
   "id": "ff3f9603",
   "metadata": {},
   "outputs": [],
   "source": [
    "#사다리꼴 고치기,회전된 이미지 세우기\n",
    "import cv2\n",
    "import numpy as np\n",
    "\n",
    "img = cv2.imread('img.jpg')\n",
    "\n",
    "width,height = 640,240 #해당 크기로 결과물 출력\n",
    "\n",
    "src=np.array([],[],[],[]) #4개의 기준 점 넣기(input4개 지점)\n",
    "dst = np.array([0,0],[width,0],[width,height],[0,height]) #output4개 지점\n",
    "\n",
    "matrix = cv2.getPerspectiveTransform(src,dst) #matrix반환 #src영역을dst영역으로 바꾸기위한 변환 행렬 \n",
    "result = cv2.warpPerspective(img,matrix,(width,height)) #matrix대로 변환을 함 #변환행렬을 적용해 최종 결과를 얻음\n",
    "#좌상,우상,우하,좌하 순서 4지점\n",
    "\n",
    "cv2.imshow('result',result)\n",
    "cv2.waitKey(0)\n",
    "cv2.destroyAllWindows()"
   ]
  },
  {
   "cell_type": "code",
   "execution_count": null,
   "id": "ae256336",
   "metadata": {},
   "outputs": [],
   "source": []
  }
 ],
 "metadata": {
  "kernelspec": {
   "display_name": "Python 3 (ipykernel)",
   "language": "python",
   "name": "python3"
  },
  "language_info": {
   "codemirror_mode": {
    "name": "ipython",
    "version": 3
   },
   "file_extension": ".py",
   "mimetype": "text/x-python",
   "name": "python",
   "nbconvert_exporter": "python",
   "pygments_lexer": "ipython3",
   "version": "3.9.7"
  }
 },
 "nbformat": 4,
 "nbformat_minor": 5
}
