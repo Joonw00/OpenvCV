{
 "cells": [
  {
   "cell_type": "code",
   "execution_count": 3,
   "id": "57dc791e",
   "metadata": {},
   "outputs": [],
   "source": [
    "import cv2\n",
    "img = cv2.imread('img.jpg',cv2.IMREAD_GRAYSCALE)\n",
    "\n",
    "cv2.imwrite('img_save.jpg',img)\n",
    "cv2.imwrite('img_save.png',img)"
   ]
  },
  {
   "cell_type": "code",
   "execution_count": null,
   "id": "141e0e33",
   "metadata": {},
   "outputs": [],
   "source": [
    "#동영상 저장\n",
    "import cv2\n",
    "cap = cv2.VideoCapture('video.mp4')\n",
    "\n",
    "#z코덱 정의\n",
    "fourcc = cv2.VideoWriter_fourcc(*'DIVX')#*'DIVX' : 'D','I'..\n",
    "width = round(cap.get(cv2.CAP_PROP_FRAME_WIDTH))\n",
    "height = round(cap.get(cv2.CAP_PROP_FRAME_HEIGHT))\n",
    "fps = cap.get(cv2.CAP_PROP_FPS) #영상 재생 속도와 비례?\n",
    "\n",
    "out = cv2.VideoWriter('output.avi',fourcc,fps,(width,height))\n",
    "#저장 파일명, 코덱, FPS, 크기(width,height)\n",
    "\n",
    "while cap.isopened():\n",
    "    ret,frame=cap.read()\n",
    "    if not ret:\n",
    "        break\n",
    "        \n",
    "    out.write(frame) #영상만, 소리x\n",
    "    cv2.imshow('video',frame)\n",
    "    if cv2.waitKey(1) == ord('q'):\n",
    "        break\n",
    "out.release()#자원 해제\n",
    "cap.release()\n",
    "cv2.destroyAllWindows()"
   ]
  }
 ],
 "metadata": {
  "kernelspec": {
   "display_name": "Python 3 (ipykernel)",
   "language": "python",
   "name": "python3"
  },
  "language_info": {
   "codemirror_mode": {
    "name": "ipython",
    "version": 3
   },
   "file_extension": ".py",
   "mimetype": "text/x-python",
   "name": "python",
   "nbconvert_exporter": "python",
   "pygments_lexer": "ipython3",
   "version": "3.9.7"
  }
 },
 "nbformat": 4,
 "nbformat_minor": 5
}
