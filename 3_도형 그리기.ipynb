{
 "cells": [
  {
   "cell_type": "code",
   "execution_count": 3,
   "id": "6e8349b7",
   "metadata": {},
   "outputs": [],
   "source": [
    "import cv2\n",
    "import numpy as np\n",
    "\n",
    "img = np.zeros((480,640,3),dtype=np.uint8)\n",
    "#img[:] = (255,255,255)  #이미지 전체 영역에 색 체우기\n",
    "\n",
    "cv2.imshow('img',img)\n",
    "cv2.waitKey(0)\n",
    "cv2.destroyAllWindows()"
   ]
  },
  {
   "cell_type": "markdown",
   "id": "e030406b",
   "metadata": {},
   "source": [
    "## 일부 영역 색칠"
   ]
  },
  {
   "cell_type": "code",
   "execution_count": 5,
   "id": "f9a62ec0",
   "metadata": {},
   "outputs": [],
   "source": [
    "import cv2\n",
    "import numpy as np\n",
    "\n",
    "img = np.zeros((480,640,3),dtype=np.uint8)\n",
    "img[100:200,200:300] = (255,255,255)   #세로,가로\n",
    "\n",
    "cv2.imshow('img',img)\n",
    "cv2.waitKey(0)\n",
    "cv2.destroyAllWindows()"
   ]
  },
  {
   "cell_type": "markdown",
   "id": "dd32885f",
   "metadata": {},
   "source": [
    "# 직선,도형들\n",
    "직선의 종류\n",
    "cv2.LINE_4 : 상하좌우 4 방향으로 연결된 선\n",
    "cv2.LINE_8 : 대각선을 포함한 8방향으로 연결된 선(기본값)\n",
    "cv2.LINE_AA : 부드러운 선(anti-aliasing)"
   ]
  },
  {
   "cell_type": "code",
   "execution_count": 30,
   "id": "aedfc253",
   "metadata": {},
   "outputs": [],
   "source": [
    "import cv2\n",
    "import numpy as np\n",
    "\n",
    "img = np.zeros((480,640,3),dtype=np.uint8)\n",
    "\n",
    "COLOR = (0,255,255)  #BGR : Yellow\n",
    "THICKNESS = 3 #두께\n",
    "\n",
    "cv2.line(img,(50,100),(400,50), COLOR,THICKNESS,cv2.LINE_8)\n",
    "cv2.line(img,(50,200),(400,50), COLOR,THICKNESS,cv2.LINE_4)\n",
    "cv2.line(img,(50,300),(400,50), COLOR,THICKNESS,cv2.LINE_AA)\n",
    "#그릴 위치,시작점,끝점,색깔,두께,선 종류\n",
    "\n",
    "#원\n",
    "RADIUS = 50\n",
    "THICKNESS = 10\n",
    "cv2.circle(img,(200,100),RADIUS,COLOR,THICKNESS,cv2.LINE_AA)  #속이 빈 원\n",
    "cv2.circle(img,(400,100),RADIUS,COLOR,cv2.FILLED,cv2.LINE_AA) #속이 찬 원\n",
    "#그릴 위치,원의 중심점, 반지름,색깔,두께, 선 종류\n",
    "\n",
    "#사각형\n",
    "cv2.rectangle(img,(100,100),(400,200),COLOR,THICKNESS) #속이 빈 사각형\n",
    "#그릴 위치, 왼쪽 위 좌표, 오른쪽 아래 좌표, 색깔,두께\n",
    "\n",
    "cv2.imshow('img',img)\n",
    "cv2.waitKey(0)\n",
    "cv2.destroyAllWindows()"
   ]
  },
  {
   "cell_type": "code",
   "execution_count": 44,
   "id": "d8c4647a",
   "metadata": {},
   "outputs": [],
   "source": [
    "#다각형\n",
    "import cv2\n",
    "import numpy as np\n",
    "\n",
    "mg = np.zeros((480,640,3),dtype=np.uint8)\n",
    "\n",
    "COLOR = (0,255,255)  #BGR : Yellow\n",
    "THICKNESS = 3 #두께\n",
    "\n",
    "pts1 = np.array([[0,700],[500,50],[100,200]])\n",
    "pts2 = np.array([[400,300],[400,100],[400,200]])\n",
    "#cv2.polylines(img,[pts1], False,COLOR, THICKNESS, cv2.LINE_AA)\n",
    "cv2.polylines(img,[pts1,pts2], True,COLOR, THICKNESS, cv2.LINE_AA)\n",
    "#그릴 위치,그릴 좌표들, 닫힘 여부,색깔, 두께,선 종류\n",
    "\n",
    "pts3 = np.array([[[100,300],[200,300],[100,400]],[[200,300],[300,300],[300,400]]])\n",
    "cv2.fillPoly(img,pts3,COLOR,cv2.LINE_AA) #꽉 찬 다각형\n",
    "#그릴 위치, 그릴 좌표들, 색깔, 선 종류\n",
    "\n",
    "cv2.imshow('img',img)\n",
    "cv2.waitKey(0)\n",
    "cv2.destroyAllWindows()"
   ]
  },
  {
   "cell_type": "code",
   "execution_count": null,
   "id": "0b2db42a",
   "metadata": {},
   "outputs": [],
   "source": []
  },
  {
   "cell_type": "code",
   "execution_count": null,
   "id": "066626f1",
   "metadata": {},
   "outputs": [],
   "source": []
  }
 ],
 "metadata": {
  "kernelspec": {
   "display_name": "Python 3 (ipykernel)",
   "language": "python",
   "name": "python3"
  },
  "language_info": {
   "codemirror_mode": {
    "name": "ipython",
    "version": 3
   },
   "file_extension": ".py",
   "mimetype": "text/x-python",
   "name": "python",
   "nbconvert_exporter": "python",
   "pygments_lexer": "ipython3",
   "version": "3.9.7"
  }
 },
 "nbformat": 4,
 "nbformat_minor": 5
}
