{
 "cells": [
  {
   "cell_type": "markdown",
   "id": "8b8722b4",
   "metadata": {},
   "source": [
    "#이미지 출력"
   ]
  },
  {
   "cell_type": "code",
   "execution_count": 3,
   "id": "50b079d4",
   "metadata": {},
   "outputs": [],
   "source": [
    "#설정,import\n",
    "import cv2\n",
    "import numpy as np\n",
    "import matplotlib.pyplot as plt\n",
    "img = cv2.imread('cat.jpg')"
   ]
  },
  {
   "cell_type": "code",
   "execution_count": 8,
   "id": "0dbd3410",
   "metadata": {},
   "outputs": [],
   "source": [
    "#이미지 출력\n",
    "cv2.imshow('cat',img)\n",
    "key = cv2.waitKey(0)\n",
    "cv2.destroyAllWindows()"
   ]
  },
  {
   "cell_type": "markdown",
   "id": "aeeae2e0",
   "metadata": {},
   "source": [
    "##읽기 옵션\n",
    "cv2.IMREAD_COLOR  : 컬러 이미지,투명 영역은 무시(컬러 : 기본값)\n",
    "cv2.IMREAD_GRAYSCALE : 흑백 이미지\n",
    "cv2.IMREAD_UNCHANGED : 투명 영역까지 포함"
   ]
  },
  {
   "cell_type": "code",
   "execution_count": 3,
   "id": "fa3a5b6b",
   "metadata": {},
   "outputs": [],
   "source": [
    "import cv2\n",
    "img_color = cv2.imread('cat.jpg', cv2.IMREAD_COLOR)\n",
    "img_gray = cv2.imread('cat.jpg', cv2.IMREAD_GRAYSCALE)\n",
    "img_unchanged = cv2.imread('cat.jpg', cv2.IMREAD_UNCHANGED)\n",
    "\n",
    "cv2.imshow('cat_color',img_color)\n",
    "cv2.imshow('cat_gray',img_gray)\n",
    "cv2.imshow('cat_unchanged',img_unchanged)\n",
    "\n",
    "key = cv2.waitKey(0)\n",
    "cv2.destroyAllWindows()"
   ]
  },
  {
   "cell_type": "markdown",
   "id": "3ef89783",
   "metadata": {},
   "source": [
    "## Shape\n",
    "이미지의 height,width,channel정보"
   ]
  },
  {
   "cell_type": "code",
   "execution_count": 6,
   "id": "51b97862",
   "metadata": {},
   "outputs": [
    {
     "data": {
      "text/plain": [
       "(1125, 1125, 3)"
      ]
     },
     "execution_count": 6,
     "metadata": {},
     "output_type": "execute_result"
    }
   ],
   "source": [
    "import cv2\n",
    "img = cv2.imread('cat.jpg')\n",
    "img.shape #세로,가로,channel(현재 RGB 3개를 갖는다)"
   ]
  },
  {
   "cell_type": "code",
   "execution_count": null,
   "id": "16cf74cc",
   "metadata": {},
   "outputs": [],
   "source": []
  }
 ],
 "metadata": {
  "kernelspec": {
   "display_name": "Python 3 (ipykernel)",
   "language": "python",
   "name": "python3"
  },
  "language_info": {
   "codemirror_mode": {
    "name": "ipython",
    "version": 3
   },
   "file_extension": ".py",
   "mimetype": "text/x-python",
   "name": "python",
   "nbconvert_exporter": "python",
   "pygments_lexer": "ipython3",
   "version": "3.9.7"
  }
 },
 "nbformat": 4,
 "nbformat_minor": 5
}
