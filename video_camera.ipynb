{
 "cells": [
  {
   "cell_type": "markdown",
   "id": "314aab89",
   "metadata": {},
   "source": [
    "동영상 출력"
   ]
  },
  {
   "cell_type": "code",
   "execution_count": 4,
   "id": "9ea51c21",
   "metadata": {},
   "outputs": [
    {
     "name": "stdout",
     "output_type": "stream",
     "text": [
      "더 이상 가져올 프레임이 없습니다.\n"
     ]
    }
   ],
   "source": [
    "#동영상 파일 출력\n",
    "import cv2\n",
    "cap = cv2.VideoCapture('cat2.gif')\n",
    "\n",
    "while cap.isOpened(): #동영상 파일이 올바로 열렸는 지\n",
    "    ret,frame = cap.read()  #2개 값 반환,ret : 성공 여부,frame:받아온 이미지\n",
    "    if not ret:  #ret : False\n",
    "        print('더 이상 가져올 프레임이 없습니다.')\n",
    "        break\n",
    "    cv2.imshow('video',frame)\n",
    "    \n",
    "    #각 프레임당 얼마나 기다릴 지\n",
    "    if cv2.waitKey(100) == ord('q'):\n",
    "        print('종료합니다')\n",
    "        break\n",
    "cap.release()  #자원 해제\n",
    "cv2.destroyAllWindows()"
   ]
  },
  {
   "cell_type": "code",
   "execution_count": 1,
   "id": "d51436ec",
   "metadata": {},
   "outputs": [],
   "source": [
    "#카메라 출력\n",
    "import cv2\n",
    "cap=cv2.VideoCapture(0)#0번째 카메라 장치(device id)\n",
    "if not cap.isOpened():  #카메라가 잘 열리지 않은 경우\n",
    "    exit()#프로그램 종료\n",
    "while True:\n",
    "    ret,frame = cap.read()\n",
    "    if not ret:\n",
    "        break\n",
    "    cv2.imshow('camera',frame)\n",
    "    if cv2.waitKey(1) == ord('q'):\n",
    "        #사용자가 q를 입력하면 종료\n",
    "        break\n",
    "cap.release() \n",
    "cv2.destroyAllWindows()  "
   ]
  },
  {
   "cell_type": "code",
   "execution_count": null,
   "id": "08fbe677",
   "metadata": {},
   "outputs": [],
   "source": []
  }
 ],
 "metadata": {
  "kernelspec": {
   "display_name": "Python 3 (ipykernel)",
   "language": "python",
   "name": "python3"
  },
  "language_info": {
   "codemirror_mode": {
    "name": "ipython",
    "version": 3
   },
   "file_extension": ".py",
   "mimetype": "text/x-python",
   "name": "python",
   "nbconvert_exporter": "python",
   "pygments_lexer": "ipython3",
   "version": "3.9.7"
  }
 },
 "nbformat": 4,
 "nbformat_minor": 5
}
